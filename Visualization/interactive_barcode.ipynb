{
 "cells": [
  {
   "cell_type": "code",
   "execution_count": 3,
   "id": "72975285",
   "metadata": {},
   "outputs": [
    {
     "name": "stdout",
     "output_type": "stream",
     "text": [
      "Collecting pandas\n",
      "  Downloading pandas-2.2.3-cp312-cp312-manylinux_2_17_x86_64.manylinux2014_x86_64.whl.metadata (89 kB)\n",
      "\u001b[2K     \u001b[38;2;114;156;31m━━━━━━━━━━━━━━━━━━━━━━━━━━━━━━━━━━━━━━━━\u001b[0m \u001b[32m89.9/89.9 kB\u001b[0m \u001b[31m2.2 MB/s\u001b[0m eta \u001b[36m0:00:00\u001b[0m MB/s\u001b[0m eta \u001b[36m0:00:01\u001b[0m\n",
      "\u001b[?25hRequirement already satisfied: numpy>=1.26.0 in ./miniconda3/lib/python3.12/site-packages (from pandas) (1.26.4)\n",
      "Requirement already satisfied: python-dateutil>=2.8.2 in ./miniconda3/lib/python3.12/site-packages (from pandas) (2.9.0.post0)\n",
      "Collecting pytz>=2020.1 (from pandas)\n",
      "  Downloading pytz-2025.2-py2.py3-none-any.whl.metadata (22 kB)\n",
      "Collecting tzdata>=2022.7 (from pandas)\n",
      "  Downloading tzdata-2025.2-py2.py3-none-any.whl.metadata (1.4 kB)\n",
      "Requirement already satisfied: six>=1.5 in ./miniconda3/lib/python3.12/site-packages (from python-dateutil>=2.8.2->pandas) (1.16.0)\n",
      "Downloading pandas-2.2.3-cp312-cp312-manylinux_2_17_x86_64.manylinux2014_x86_64.whl (12.7 MB)\n",
      "\u001b[2K   \u001b[38;2;114;156;31m━━━━━━━━━━━━━━━━━━━━━━━━━━━━━━━━━━━━━━━━\u001b[0m \u001b[32m12.7/12.7 MB\u001b[0m \u001b[31m10.4 MB/s\u001b[0m eta \u001b[36m0:00:00\u001b[0mm eta \u001b[36m0:00:01\u001b[0m[36m0:00:01\u001b[0m\n",
      "\u001b[?25hDownloading pytz-2025.2-py2.py3-none-any.whl (509 kB)\n",
      "\u001b[2K   \u001b[38;2;114;156;31m━━━━━━━━━━━━━━━━━━━━━━━━━━━━━━━━━━━━━━━━\u001b[0m \u001b[32m509.2/509.2 kB\u001b[0m \u001b[31m8.4 MB/s\u001b[0m eta \u001b[36m0:00:00\u001b[0m7 MB/s\u001b[0m eta \u001b[36m0:00:01\u001b[0m\n",
      "\u001b[?25hDownloading tzdata-2025.2-py2.py3-none-any.whl (347 kB)\n",
      "\u001b[2K   \u001b[38;2;114;156;31m━━━━━━━━━━━━━━━━━━━━━━━━━━━━━━━━━━━━━━━━\u001b[0m \u001b[32m347.8/347.8 kB\u001b[0m \u001b[31m7.5 MB/s\u001b[0m eta \u001b[36m0:00:00\u001b[0m[31m11.7 MB/s\u001b[0m eta \u001b[36m0:00:01\u001b[0m\n",
      "\u001b[?25hInstalling collected packages: pytz, tzdata, pandas\n",
      "Successfully installed pandas-2.2.3 pytz-2025.2 tzdata-2025.2\n"
     ]
    }
   ],
   "source": [
    "!pip install pandas"
   ]
  },
  {
   "cell_type": "code",
   "execution_count": 13,
   "id": "8776c50c",
   "metadata": {},
   "outputs": [
    {
     "name": "stdout",
     "output_type": "stream",
     "text": [
      "Collecting plotly\n",
      "  Downloading plotly-6.1.1-py3-none-any.whl.metadata (6.9 kB)\n",
      "Collecting narwhals>=1.15.1 (from plotly)\n",
      "  Downloading narwhals-1.40.0-py3-none-any.whl.metadata (11 kB)\n",
      "Requirement already satisfied: packaging in ./miniconda3/lib/python3.12/site-packages (from plotly) (23.2)\n",
      "Downloading plotly-6.1.1-py3-none-any.whl (16.1 MB)\n",
      "\u001b[2K   \u001b[38;2;114;156;31m━━━━━━━━━━━━━━━━━━━━━━━━━━━━━━━━━━━━━━━━\u001b[0m \u001b[32m16.1/16.1 MB\u001b[0m \u001b[31m10.4 MB/s\u001b[0m eta \u001b[36m0:00:00\u001b[0mm eta \u001b[36m0:00:01\u001b[0m[36m0:00:01\u001b[0m\n",
      "\u001b[?25hDownloading narwhals-1.40.0-py3-none-any.whl (357 kB)\n",
      "\u001b[2K   \u001b[38;2;114;156;31m━━━━━━━━━━━━━━━━━━━━━━━━━━━━━━━━━━━━━━━━\u001b[0m \u001b[32m357.3/357.3 kB\u001b[0m \u001b[31m8.7 MB/s\u001b[0m eta \u001b[36m0:00:00\u001b[0m[31m10.9 MB/s\u001b[0m eta \u001b[36m0:00:01\u001b[0m\n",
      "\u001b[?25hInstalling collected packages: narwhals, plotly\n",
      "Successfully installed narwhals-1.40.0 plotly-6.1.1\n"
     ]
    }
   ],
   "source": [
    "!pip install plotly"
   ]
  },
  {
   "cell_type": "code",
   "execution_count": 71,
   "id": "bc24b9bd",
   "metadata": {},
   "outputs": [
    {
     "data": {
      "text/html": [
       "<div>\n",
       "<style scoped>\n",
       "    .dataframe tbody tr th:only-of-type {\n",
       "        vertical-align: middle;\n",
       "    }\n",
       "\n",
       "    .dataframe tbody tr th {\n",
       "        vertical-align: top;\n",
       "    }\n",
       "\n",
       "    .dataframe thead th {\n",
       "        text-align: right;\n",
       "    }\n",
       "</style>\n",
       "<table border=\"1\" class=\"dataframe\">\n",
       "  <thead>\n",
       "    <tr style=\"text-align: right;\">\n",
       "      <th></th>\n",
       "      <th>index</th>\n",
       "      <th>k__Fungi;p__Basidiomycota;__;__;__;__;__;__</th>\n",
       "      <th>k__Fungi;p__Ascomycota;c__Orbiliomycetes;o__Orbiliales;f__Orbiliaceae;__;__;__</th>\n",
       "      <th>k__Fungi;p__Ascomycota;c__Orbiliomycetes;o__Orbiliales;f__Orbiliaceae;g__Arthrobotrys;s__Arthrobotrys_sp;sh__SH0934997.10FU</th>\n",
       "      <th>k__Fungi;p__Ascomycota;c__Sordariomycetes;o__Glomerellales;f__Plectosphaerellaceae;g__Plectosphaerellaceae_gen_Incertae_sedis;s__Plectosphaerellaceae_sp;sh__SH1002448.10FU</th>\n",
       "      <th>k__Fungi;p__Ascomycota;c__Sordariomycetes;o__Glomerellales;f__Plectosphaerellaceae;g__Acrostalagmus;s__Acrostalagmus_luteoalbus;sh__SH1002322.10FU</th>\n",
       "      <th>k__Fungi;p__Ascomycota;__;__;__;__;__;__</th>\n",
       "      <th>k__Fungi;p__Aphelidiomycota;c__Aphelidiomycota_cls_Incertae_sedis;o__Aphelidiomycota_ord_Incertae_sedis;f__Aphelidiomycota_fam_Incertae_sedis;g__Aphelidiomycota_gen_Incertae_sedis;s__Aphelidiomycota_sp;__</th>\n",
       "      <th>k__Fungi;p__Aphelidiomycota;c__Aphelidiomycota_cls_Incertae_sedis;o__Aphelidiomycota_ord_Incertae_sedis;f__Aphelidiomycota_fam_Incertae_sedis;g__Aphelidiomycota_gen_Incertae_sedis;s__Aphelidiomycota_sp;sh__SH0923710.10FU</th>\n",
       "      <th>k__Fungi;p__Aphelidiomycota;c__Aphelidiomycota_cls_Incertae_sedis;o__Aphelidiomycota_ord_Incertae_sedis;f__Aphelidiomycota_fam_Incertae_sedis;g__Aphelidiomycota_gen_Incertae_sedis;s__Aphelidiomycota_sp;sh__SH0995263.10FU</th>\n",
       "      <th>...</th>\n",
       "      <th>k__Fungi;p__Ascomycota;c__Sordariomycetes;o__Hypocreales;f__Nectriaceae;g__Fusarium;__;__</th>\n",
       "      <th>k__Fungi;p__Mucoromycota;c__Mucoromycetes;o__Mucorales;f__Rhizopodaceae;g__Rhizopus;s__Rhizopus_arrhizus;sh__SH0980336.10FU</th>\n",
       "      <th>k__Fungi;p__Fungi_phy_Incertae_sedis;c__Fungi_cls_Incertae_sedis;o__Fungi_ord_Incertae_sedis;f__Fungi_fam_Incertae_sedis;g__Fungi_gen_Incertae_sedis;s__Fungi_sp;sh__SH0730428.10FU</th>\n",
       "      <th>k__Fungi;p__Basidiomycota;c__Agaricomycetes;o__Agaricales;f__Inocybaceae;g__Inocybe;s__Inocybe_sp;sh__SH0729926.10FU</th>\n",
       "      <th>k__Fungi;p__Ascomycota;c__Saccharomycetes;o__Saccharomycetales;f__Metschnikowiaceae;g__Metschnikowia;__;__</th>\n",
       "      <th>k__Fungi;p__Ascomycota;c__Lecanoromycetes;__;__;__;__;__</th>\n",
       "      <th>k__Fungi;p__Basidiomycota;c__Agaricomycetes;o__Sebacinales;__;__;__;__</th>\n",
       "      <th>k__Fungi;p__Basidiomycota;c__Agaricomycetes;o__Sebacinales;f__Serendipitaceae;g__Serendipitaceae_gen_Incertae_sedis;s__Serendipitaceae_sp;__</th>\n",
       "      <th>forward-absolute-filepath</th>\n",
       "      <th>reverse-absolute-filepath</th>\n",
       "    </tr>\n",
       "  </thead>\n",
       "  <tbody>\n",
       "    <tr>\n",
       "      <th>0</th>\n",
       "      <td>1633957F1628706</td>\n",
       "      <td>0.0</td>\n",
       "      <td>0.0</td>\n",
       "      <td>0.0</td>\n",
       "      <td>0.0</td>\n",
       "      <td>0.0</td>\n",
       "      <td>238.0</td>\n",
       "      <td>0.0</td>\n",
       "      <td>0.0</td>\n",
       "      <td>0.0</td>\n",
       "      <td>...</td>\n",
       "      <td>0.0</td>\n",
       "      <td>74096.0</td>\n",
       "      <td>0.0</td>\n",
       "      <td>0.0</td>\n",
       "      <td>3.0</td>\n",
       "      <td>0.0</td>\n",
       "      <td>0.0</td>\n",
       "      <td>0.0</td>\n",
       "      <td>/home/chiara-morena/repo/its1-metagenomics-ana...</td>\n",
       "      <td>/home/chiara-morena/repo/its1-metagenomics-ana...</td>\n",
       "    </tr>\n",
       "    <tr>\n",
       "      <th>1</th>\n",
       "      <td>1633958F1628707</td>\n",
       "      <td>0.0</td>\n",
       "      <td>0.0</td>\n",
       "      <td>0.0</td>\n",
       "      <td>0.0</td>\n",
       "      <td>0.0</td>\n",
       "      <td>204.0</td>\n",
       "      <td>0.0</td>\n",
       "      <td>0.0</td>\n",
       "      <td>0.0</td>\n",
       "      <td>...</td>\n",
       "      <td>0.0</td>\n",
       "      <td>64711.0</td>\n",
       "      <td>0.0</td>\n",
       "      <td>0.0</td>\n",
       "      <td>8.0</td>\n",
       "      <td>7.0</td>\n",
       "      <td>0.0</td>\n",
       "      <td>0.0</td>\n",
       "      <td>/home/chiara-morena/repo/its1-metagenomics-ana...</td>\n",
       "      <td>/home/chiara-morena/repo/its1-metagenomics-ana...</td>\n",
       "    </tr>\n",
       "    <tr>\n",
       "      <th>2</th>\n",
       "      <td>1633959F1628708</td>\n",
       "      <td>0.0</td>\n",
       "      <td>0.0</td>\n",
       "      <td>0.0</td>\n",
       "      <td>0.0</td>\n",
       "      <td>0.0</td>\n",
       "      <td>48.0</td>\n",
       "      <td>0.0</td>\n",
       "      <td>0.0</td>\n",
       "      <td>0.0</td>\n",
       "      <td>...</td>\n",
       "      <td>0.0</td>\n",
       "      <td>43616.0</td>\n",
       "      <td>0.0</td>\n",
       "      <td>0.0</td>\n",
       "      <td>0.0</td>\n",
       "      <td>0.0</td>\n",
       "      <td>0.0</td>\n",
       "      <td>0.0</td>\n",
       "      <td>/home/chiara-morena/repo/its1-metagenomics-ana...</td>\n",
       "      <td>/home/chiara-morena/repo/its1-metagenomics-ana...</td>\n",
       "    </tr>\n",
       "    <tr>\n",
       "      <th>3</th>\n",
       "      <td>1633960F1628709</td>\n",
       "      <td>0.0</td>\n",
       "      <td>0.0</td>\n",
       "      <td>0.0</td>\n",
       "      <td>0.0</td>\n",
       "      <td>0.0</td>\n",
       "      <td>10.0</td>\n",
       "      <td>0.0</td>\n",
       "      <td>0.0</td>\n",
       "      <td>0.0</td>\n",
       "      <td>...</td>\n",
       "      <td>0.0</td>\n",
       "      <td>31054.0</td>\n",
       "      <td>0.0</td>\n",
       "      <td>0.0</td>\n",
       "      <td>0.0</td>\n",
       "      <td>0.0</td>\n",
       "      <td>0.0</td>\n",
       "      <td>0.0</td>\n",
       "      <td>/home/chiara-morena/repo/its1-metagenomics-ana...</td>\n",
       "      <td>/home/chiara-morena/repo/its1-metagenomics-ana...</td>\n",
       "    </tr>\n",
       "    <tr>\n",
       "      <th>4</th>\n",
       "      <td>1633961F1628710</td>\n",
       "      <td>0.0</td>\n",
       "      <td>0.0</td>\n",
       "      <td>0.0</td>\n",
       "      <td>0.0</td>\n",
       "      <td>0.0</td>\n",
       "      <td>0.0</td>\n",
       "      <td>0.0</td>\n",
       "      <td>0.0</td>\n",
       "      <td>0.0</td>\n",
       "      <td>...</td>\n",
       "      <td>7.0</td>\n",
       "      <td>45326.0</td>\n",
       "      <td>0.0</td>\n",
       "      <td>0.0</td>\n",
       "      <td>0.0</td>\n",
       "      <td>0.0</td>\n",
       "      <td>0.0</td>\n",
       "      <td>0.0</td>\n",
       "      <td>/home/chiara-morena/repo/its1-metagenomics-ana...</td>\n",
       "      <td>/home/chiara-morena/repo/its1-metagenomics-ana...</td>\n",
       "    </tr>\n",
       "  </tbody>\n",
       "</table>\n",
       "<p>5 rows × 143 columns</p>\n",
       "</div>"
      ],
      "text/plain": [
       "             index  k__Fungi;p__Basidiomycota;__;__;__;__;__;__  \\\n",
       "0  1633957F1628706                                          0.0   \n",
       "1  1633958F1628707                                          0.0   \n",
       "2  1633959F1628708                                          0.0   \n",
       "3  1633960F1628709                                          0.0   \n",
       "4  1633961F1628710                                          0.0   \n",
       "\n",
       "   k__Fungi;p__Ascomycota;c__Orbiliomycetes;o__Orbiliales;f__Orbiliaceae;__;__;__  \\\n",
       "0                                                0.0                                \n",
       "1                                                0.0                                \n",
       "2                                                0.0                                \n",
       "3                                                0.0                                \n",
       "4                                                0.0                                \n",
       "\n",
       "   k__Fungi;p__Ascomycota;c__Orbiliomycetes;o__Orbiliales;f__Orbiliaceae;g__Arthrobotrys;s__Arthrobotrys_sp;sh__SH0934997.10FU  \\\n",
       "0                                                0.0                                                                             \n",
       "1                                                0.0                                                                             \n",
       "2                                                0.0                                                                             \n",
       "3                                                0.0                                                                             \n",
       "4                                                0.0                                                                             \n",
       "\n",
       "   k__Fungi;p__Ascomycota;c__Sordariomycetes;o__Glomerellales;f__Plectosphaerellaceae;g__Plectosphaerellaceae_gen_Incertae_sedis;s__Plectosphaerellaceae_sp;sh__SH1002448.10FU  \\\n",
       "0                                                0.0                                                                                                                             \n",
       "1                                                0.0                                                                                                                             \n",
       "2                                                0.0                                                                                                                             \n",
       "3                                                0.0                                                                                                                             \n",
       "4                                                0.0                                                                                                                             \n",
       "\n",
       "   k__Fungi;p__Ascomycota;c__Sordariomycetes;o__Glomerellales;f__Plectosphaerellaceae;g__Acrostalagmus;s__Acrostalagmus_luteoalbus;sh__SH1002322.10FU  \\\n",
       "0                                                0.0                                                                                                    \n",
       "1                                                0.0                                                                                                    \n",
       "2                                                0.0                                                                                                    \n",
       "3                                                0.0                                                                                                    \n",
       "4                                                0.0                                                                                                    \n",
       "\n",
       "   k__Fungi;p__Ascomycota;__;__;__;__;__;__  \\\n",
       "0                                     238.0   \n",
       "1                                     204.0   \n",
       "2                                      48.0   \n",
       "3                                      10.0   \n",
       "4                                       0.0   \n",
       "\n",
       "   k__Fungi;p__Aphelidiomycota;c__Aphelidiomycota_cls_Incertae_sedis;o__Aphelidiomycota_ord_Incertae_sedis;f__Aphelidiomycota_fam_Incertae_sedis;g__Aphelidiomycota_gen_Incertae_sedis;s__Aphelidiomycota_sp;__  \\\n",
       "0                                                0.0                                                                                                                                                              \n",
       "1                                                0.0                                                                                                                                                              \n",
       "2                                                0.0                                                                                                                                                              \n",
       "3                                                0.0                                                                                                                                                              \n",
       "4                                                0.0                                                                                                                                                              \n",
       "\n",
       "   k__Fungi;p__Aphelidiomycota;c__Aphelidiomycota_cls_Incertae_sedis;o__Aphelidiomycota_ord_Incertae_sedis;f__Aphelidiomycota_fam_Incertae_sedis;g__Aphelidiomycota_gen_Incertae_sedis;s__Aphelidiomycota_sp;sh__SH0923710.10FU  \\\n",
       "0                                                0.0                                                                                                                                                                              \n",
       "1                                                0.0                                                                                                                                                                              \n",
       "2                                                0.0                                                                                                                                                                              \n",
       "3                                                0.0                                                                                                                                                                              \n",
       "4                                                0.0                                                                                                                                                                              \n",
       "\n",
       "   k__Fungi;p__Aphelidiomycota;c__Aphelidiomycota_cls_Incertae_sedis;o__Aphelidiomycota_ord_Incertae_sedis;f__Aphelidiomycota_fam_Incertae_sedis;g__Aphelidiomycota_gen_Incertae_sedis;s__Aphelidiomycota_sp;sh__SH0995263.10FU  \\\n",
       "0                                                0.0                                                                                                                                                                              \n",
       "1                                                0.0                                                                                                                                                                              \n",
       "2                                                0.0                                                                                                                                                                              \n",
       "3                                                0.0                                                                                                                                                                              \n",
       "4                                                0.0                                                                                                                                                                              \n",
       "\n",
       "   ...  \\\n",
       "0  ...   \n",
       "1  ...   \n",
       "2  ...   \n",
       "3  ...   \n",
       "4  ...   \n",
       "\n",
       "   k__Fungi;p__Ascomycota;c__Sordariomycetes;o__Hypocreales;f__Nectriaceae;g__Fusarium;__;__  \\\n",
       "0                                                0.0                                           \n",
       "1                                                0.0                                           \n",
       "2                                                0.0                                           \n",
       "3                                                0.0                                           \n",
       "4                                                7.0                                           \n",
       "\n",
       "   k__Fungi;p__Mucoromycota;c__Mucoromycetes;o__Mucorales;f__Rhizopodaceae;g__Rhizopus;s__Rhizopus_arrhizus;sh__SH0980336.10FU  \\\n",
       "0                                            74096.0                                                                             \n",
       "1                                            64711.0                                                                             \n",
       "2                                            43616.0                                                                             \n",
       "3                                            31054.0                                                                             \n",
       "4                                            45326.0                                                                             \n",
       "\n",
       "   k__Fungi;p__Fungi_phy_Incertae_sedis;c__Fungi_cls_Incertae_sedis;o__Fungi_ord_Incertae_sedis;f__Fungi_fam_Incertae_sedis;g__Fungi_gen_Incertae_sedis;s__Fungi_sp;sh__SH0730428.10FU  \\\n",
       "0                                                0.0                                                                                                                                     \n",
       "1                                                0.0                                                                                                                                     \n",
       "2                                                0.0                                                                                                                                     \n",
       "3                                                0.0                                                                                                                                     \n",
       "4                                                0.0                                                                                                                                     \n",
       "\n",
       "   k__Fungi;p__Basidiomycota;c__Agaricomycetes;o__Agaricales;f__Inocybaceae;g__Inocybe;s__Inocybe_sp;sh__SH0729926.10FU  \\\n",
       "0                                                0.0                                                                      \n",
       "1                                                0.0                                                                      \n",
       "2                                                0.0                                                                      \n",
       "3                                                0.0                                                                      \n",
       "4                                                0.0                                                                      \n",
       "\n",
       "   k__Fungi;p__Ascomycota;c__Saccharomycetes;o__Saccharomycetales;f__Metschnikowiaceae;g__Metschnikowia;__;__  \\\n",
       "0                                                3.0                                                            \n",
       "1                                                8.0                                                            \n",
       "2                                                0.0                                                            \n",
       "3                                                0.0                                                            \n",
       "4                                                0.0                                                            \n",
       "\n",
       "   k__Fungi;p__Ascomycota;c__Lecanoromycetes;__;__;__;__;__  \\\n",
       "0                                                0.0          \n",
       "1                                                7.0          \n",
       "2                                                0.0          \n",
       "3                                                0.0          \n",
       "4                                                0.0          \n",
       "\n",
       "   k__Fungi;p__Basidiomycota;c__Agaricomycetes;o__Sebacinales;__;__;__;__  \\\n",
       "0                                                0.0                        \n",
       "1                                                0.0                        \n",
       "2                                                0.0                        \n",
       "3                                                0.0                        \n",
       "4                                                0.0                        \n",
       "\n",
       "   k__Fungi;p__Basidiomycota;c__Agaricomycetes;o__Sebacinales;f__Serendipitaceae;g__Serendipitaceae_gen_Incertae_sedis;s__Serendipitaceae_sp;__  \\\n",
       "0                                                0.0                                                                                              \n",
       "1                                                0.0                                                                                              \n",
       "2                                                0.0                                                                                              \n",
       "3                                                0.0                                                                                              \n",
       "4                                                0.0                                                                                              \n",
       "\n",
       "                           forward-absolute-filepath  \\\n",
       "0  /home/chiara-morena/repo/its1-metagenomics-ana...   \n",
       "1  /home/chiara-morena/repo/its1-metagenomics-ana...   \n",
       "2  /home/chiara-morena/repo/its1-metagenomics-ana...   \n",
       "3  /home/chiara-morena/repo/its1-metagenomics-ana...   \n",
       "4  /home/chiara-morena/repo/its1-metagenomics-ana...   \n",
       "\n",
       "                           reverse-absolute-filepath  \n",
       "0  /home/chiara-morena/repo/its1-metagenomics-ana...  \n",
       "1  /home/chiara-morena/repo/its1-metagenomics-ana...  \n",
       "2  /home/chiara-morena/repo/its1-metagenomics-ana...  \n",
       "3  /home/chiara-morena/repo/its1-metagenomics-ana...  \n",
       "4  /home/chiara-morena/repo/its1-metagenomics-ana...  \n",
       "\n",
       "[5 rows x 143 columns]"
      ]
     },
     "execution_count": 71,
     "metadata": {},
     "output_type": "execute_result"
    }
   ],
   "source": [
    "import pandas as pd\n",
    "df = pd.read_csv('/home/chiara-morena/repo/its1-metagenomics-analysis/Visualization/level-8.csv')\n",
    "df.head()"
   ]
  },
  {
   "cell_type": "code",
   "execution_count": 72,
   "id": "f8899844",
   "metadata": {},
   "outputs": [
    {
     "data": {
      "text/html": [
       "<div>\n",
       "<style scoped>\n",
       "    .dataframe tbody tr th:only-of-type {\n",
       "        vertical-align: middle;\n",
       "    }\n",
       "\n",
       "    .dataframe tbody tr th {\n",
       "        vertical-align: top;\n",
       "    }\n",
       "\n",
       "    .dataframe thead th {\n",
       "        text-align: right;\n",
       "    }\n",
       "</style>\n",
       "<table border=\"1\" class=\"dataframe\">\n",
       "  <thead>\n",
       "    <tr style=\"text-align: right;\">\n",
       "      <th></th>\n",
       "      <th>index</th>\n",
       "      <th>fungus</th>\n",
       "      <th>count</th>\n",
       "    </tr>\n",
       "  </thead>\n",
       "  <tbody>\n",
       "    <tr>\n",
       "      <th>0</th>\n",
       "      <td>1633957F1628706</td>\n",
       "      <td>k__Fungi;p__Basidiomycota;__;__;__;__;__;__</td>\n",
       "      <td>0.0</td>\n",
       "    </tr>\n",
       "    <tr>\n",
       "      <th>1</th>\n",
       "      <td>1633958F1628707</td>\n",
       "      <td>k__Fungi;p__Basidiomycota;__;__;__;__;__;__</td>\n",
       "      <td>0.0</td>\n",
       "    </tr>\n",
       "    <tr>\n",
       "      <th>2</th>\n",
       "      <td>1633959F1628708</td>\n",
       "      <td>k__Fungi;p__Basidiomycota;__;__;__;__;__;__</td>\n",
       "      <td>0.0</td>\n",
       "    </tr>\n",
       "    <tr>\n",
       "      <th>3</th>\n",
       "      <td>1633960F1628709</td>\n",
       "      <td>k__Fungi;p__Basidiomycota;__;__;__;__;__;__</td>\n",
       "      <td>0.0</td>\n",
       "    </tr>\n",
       "    <tr>\n",
       "      <th>4</th>\n",
       "      <td>1633961F1628710</td>\n",
       "      <td>k__Fungi;p__Basidiomycota;__;__;__;__;__;__</td>\n",
       "      <td>0.0</td>\n",
       "    </tr>\n",
       "  </tbody>\n",
       "</table>\n",
       "</div>"
      ],
      "text/plain": [
       "             index                                       fungus count\n",
       "0  1633957F1628706  k__Fungi;p__Basidiomycota;__;__;__;__;__;__   0.0\n",
       "1  1633958F1628707  k__Fungi;p__Basidiomycota;__;__;__;__;__;__   0.0\n",
       "2  1633959F1628708  k__Fungi;p__Basidiomycota;__;__;__;__;__;__   0.0\n",
       "3  1633960F1628709  k__Fungi;p__Basidiomycota;__;__;__;__;__;__   0.0\n",
       "4  1633961F1628710  k__Fungi;p__Basidiomycota;__;__;__;__;__;__   0.0"
      ]
     },
     "execution_count": 72,
     "metadata": {},
     "output_type": "execute_result"
    }
   ],
   "source": [
    "long_df = df.melt(id_vars=['index'], var_name='fungus', value_name='count')\n",
    "long_df.head()\n"
   ]
  },
  {
   "cell_type": "code",
   "execution_count": 74,
   "id": "095f3e1c",
   "metadata": {},
   "outputs": [
    {
     "data": {
      "text/html": [
       "<div>\n",
       "<style scoped>\n",
       "    .dataframe tbody tr th:only-of-type {\n",
       "        vertical-align: middle;\n",
       "    }\n",
       "\n",
       "    .dataframe tbody tr th {\n",
       "        vertical-align: top;\n",
       "    }\n",
       "\n",
       "    .dataframe thead th {\n",
       "        text-align: right;\n",
       "    }\n",
       "</style>\n",
       "<table border=\"1\" class=\"dataframe\">\n",
       "  <thead>\n",
       "    <tr style=\"text-align: right;\">\n",
       "      <th></th>\n",
       "      <th>index</th>\n",
       "      <th>fungus</th>\n",
       "      <th>count</th>\n",
       "    </tr>\n",
       "  </thead>\n",
       "  <tbody>\n",
       "    <tr>\n",
       "      <th>6</th>\n",
       "      <td>1633963F1628712</td>\n",
       "      <td>k__Fungi;p__Basidiomycota;__;__;__;__;__;__</td>\n",
       "      <td>24.0</td>\n",
       "    </tr>\n",
       "    <tr>\n",
       "      <th>7</th>\n",
       "      <td>1633964F1628713</td>\n",
       "      <td>k__Fungi;p__Basidiomycota;__;__;__;__;__;__</td>\n",
       "      <td>52.0</td>\n",
       "    </tr>\n",
       "    <tr>\n",
       "      <th>14</th>\n",
       "      <td>1633963F1628712</td>\n",
       "      <td>k__Fungi;p__Ascomycota;c__Orbiliomycetes;o__Or...</td>\n",
       "      <td>18.0</td>\n",
       "    </tr>\n",
       "    <tr>\n",
       "      <th>22</th>\n",
       "      <td>1633963F1628712</td>\n",
       "      <td>k__Fungi;p__Ascomycota;c__Orbiliomycetes;o__Or...</td>\n",
       "      <td>15.0</td>\n",
       "    </tr>\n",
       "    <tr>\n",
       "      <th>23</th>\n",
       "      <td>1633964F1628713</td>\n",
       "      <td>k__Fungi;p__Ascomycota;c__Orbiliomycetes;o__Or...</td>\n",
       "      <td>7.0</td>\n",
       "    </tr>\n",
       "    <tr>\n",
       "      <th>...</th>\n",
       "      <td>...</td>\n",
       "      <td>...</td>\n",
       "      <td>...</td>\n",
       "    </tr>\n",
       "    <tr>\n",
       "      <th>1097</th>\n",
       "      <td>1633958F1628707</td>\n",
       "      <td>k__Fungi;p__Ascomycota;c__Lecanoromycetes;__;_...</td>\n",
       "      <td>7.0</td>\n",
       "    </tr>\n",
       "    <tr>\n",
       "      <th>1110</th>\n",
       "      <td>1633963F1628712</td>\n",
       "      <td>k__Fungi;p__Basidiomycota;c__Agaricomycetes;o_...</td>\n",
       "      <td>214.0</td>\n",
       "    </tr>\n",
       "    <tr>\n",
       "      <th>1111</th>\n",
       "      <td>1633964F1628713</td>\n",
       "      <td>k__Fungi;p__Basidiomycota;c__Agaricomycetes;o_...</td>\n",
       "      <td>115.0</td>\n",
       "    </tr>\n",
       "    <tr>\n",
       "      <th>1118</th>\n",
       "      <td>1633963F1628712</td>\n",
       "      <td>k__Fungi;p__Basidiomycota;c__Agaricomycetes;o_...</td>\n",
       "      <td>108.0</td>\n",
       "    </tr>\n",
       "    <tr>\n",
       "      <th>1119</th>\n",
       "      <td>1633964F1628713</td>\n",
       "      <td>k__Fungi;p__Basidiomycota;c__Agaricomycetes;o_...</td>\n",
       "      <td>37.0</td>\n",
       "    </tr>\n",
       "  </tbody>\n",
       "</table>\n",
       "<p>281 rows × 3 columns</p>\n",
       "</div>"
      ],
      "text/plain": [
       "                index                                             fungus  \\\n",
       "6     1633963F1628712        k__Fungi;p__Basidiomycota;__;__;__;__;__;__   \n",
       "7     1633964F1628713        k__Fungi;p__Basidiomycota;__;__;__;__;__;__   \n",
       "14    1633963F1628712  k__Fungi;p__Ascomycota;c__Orbiliomycetes;o__Or...   \n",
       "22    1633963F1628712  k__Fungi;p__Ascomycota;c__Orbiliomycetes;o__Or...   \n",
       "23    1633964F1628713  k__Fungi;p__Ascomycota;c__Orbiliomycetes;o__Or...   \n",
       "...               ...                                                ...   \n",
       "1097  1633958F1628707  k__Fungi;p__Ascomycota;c__Lecanoromycetes;__;_...   \n",
       "1110  1633963F1628712  k__Fungi;p__Basidiomycota;c__Agaricomycetes;o_...   \n",
       "1111  1633964F1628713  k__Fungi;p__Basidiomycota;c__Agaricomycetes;o_...   \n",
       "1118  1633963F1628712  k__Fungi;p__Basidiomycota;c__Agaricomycetes;o_...   \n",
       "1119  1633964F1628713  k__Fungi;p__Basidiomycota;c__Agaricomycetes;o_...   \n",
       "\n",
       "      count  \n",
       "6      24.0  \n",
       "7      52.0  \n",
       "14     18.0  \n",
       "22     15.0  \n",
       "23      7.0  \n",
       "...     ...  \n",
       "1097    7.0  \n",
       "1110  214.0  \n",
       "1111  115.0  \n",
       "1118  108.0  \n",
       "1119   37.0  \n",
       "\n",
       "[281 rows x 3 columns]"
      ]
     },
     "execution_count": 74,
     "metadata": {},
     "output_type": "execute_result"
    }
   ],
   "source": [
    "long_df['count'] = pd.to_numeric(long_df['count'], errors='coerce')\n",
    "long_df = long_df[long_df['count'] > 0.1]\n",
    "long_df"
   ]
  },
  {
   "cell_type": "code",
   "execution_count": 75,
   "id": "62371470",
   "metadata": {},
   "outputs": [],
   "source": [
    "long_df.to_csv(\"/home/chiara-morena/repo/its1-metagenomics-analysis/long_df.csv\", index=False)"
   ]
  },
  {
   "cell_type": "code",
   "execution_count": 66,
   "id": "165612ca",
   "metadata": {},
   "outputs": [
    {
     "data": {
      "application/vnd.plotly.v1+json": {
       "config": {
        "plotlyServerURL": "https://plot.ly"
       },
       "data": [
        {
         "hovertemplate": "fungus_short=Fungi;p__Basidiomycota;__;__;__;__;__;__<br>index=%{x}<br>count=%{y}<extra></extra>",
         "legendgroup": "Fungi;p__Basidiomycota;__;__;__;__;__;__",
         "marker": {
          "color": "#636efa",
          "pattern": {
           "shape": ""
          }
         },
         "name": "Fungi;p__Basidiomycota;__;__;__;__;__;__",
         "orientation": "v",
         "showlegend": true,
         "textposition": "auto",
         "type": "bar",
         "x": [
          "1633963F1628712",
          "1633964F1628713"
         ],
         "xaxis": "x",
         "y": {
          "bdata": "AAAAAAAAOEAAAAAAAABKQA==",
          "dtype": "f8"
         },
         "yaxis": "y"
        },
        {
         "hovertemplate": "fungus_short=es;o__Orbiliales;f__Orbiliaceae;__;__;__<br>index=%{x}<br>count=%{y}<extra></extra>",
         "legendgroup": "es;o__Orbiliales;f__Orbiliaceae;__;__;__",
         "marker": {
          "color": "#EF553B",
          "pattern": {
           "shape": ""
          }
         },
         "name": "es;o__Orbiliales;f__Orbiliaceae;__;__;__",
         "orientation": "v",
         "showlegend": true,
         "textposition": "auto",
         "type": "bar",
         "x": [
          "1633963F1628712"
         ],
         "xaxis": "x",
         "y": {
          "bdata": "AAAAAAAAMkA=",
          "dtype": "f8"
         },
         "yaxis": "y"
        },
        {
         "hovertemplate": "fungus_short=ys;s__Arthrobotrys_sp;sh__SH0934997.10FU<br>index=%{x}<br>count=%{y}<extra></extra>",
         "legendgroup": "ys;s__Arthrobotrys_sp;sh__SH0934997.10FU",
         "marker": {
          "color": "#00cc96",
          "pattern": {
           "shape": ""
          }
         },
         "name": "ys;s__Arthrobotrys_sp;sh__SH0934997.10FU",
         "orientation": "v",
         "showlegend": true,
         "textposition": "auto",
         "type": "bar",
         "x": [
          "1633963F1628712"
         ],
         "xaxis": "x",
         "y": {
          "bdata": "AAAAAAAALkA=",
          "dtype": "f8"
         },
         "yaxis": "y"
        },
        {
         "hovertemplate": "fungus_short=ectosphaerellaceae_sp;sh__SH1002448.10FU<br>index=%{x}<br>count=%{y}<extra></extra>",
         "legendgroup": "ectosphaerellaceae_sp;sh__SH1002448.10FU",
         "marker": {
          "color": "#ab63fa",
          "pattern": {
           "shape": ""
          }
         },
         "name": "ectosphaerellaceae_sp;sh__SH1002448.10FU",
         "orientation": "v",
         "showlegend": true,
         "textposition": "auto",
         "type": "bar",
         "x": [
          "1633963F1628712",
          "1633964F1628713"
         ],
         "xaxis": "x",
         "y": {
          "bdata": "AAAAAABIkUAAAAAAACB/QA==",
          "dtype": "f8"
         },
         "yaxis": "y"
        },
        {
         "hovertemplate": "fungus_short=ostalagmus_luteoalbus;sh__SH1002322.10FU<br>index=%{x}<br>count=%{y}<extra></extra>",
         "legendgroup": "ostalagmus_luteoalbus;sh__SH1002322.10FU",
         "marker": {
          "color": "#FFA15A",
          "pattern": {
           "shape": ""
          }
         },
         "name": "ostalagmus_luteoalbus;sh__SH1002322.10FU",
         "orientation": "v",
         "showlegend": true,
         "textposition": "auto",
         "type": "bar",
         "x": [
          "1633963F1628712"
         ],
         "xaxis": "x",
         "y": {
          "bdata": "AAAAAAAAOkA=",
          "dtype": "f8"
         },
         "yaxis": "y"
        },
        {
         "hovertemplate": "fungus_short=k__Fungi;p__Ascomycota;__;__;__;__;__;__<br>index=%{x}<br>count=%{y}<extra></extra>",
         "legendgroup": "k__Fungi;p__Ascomycota;__;__;__;__;__;__",
         "marker": {
          "color": "#19d3f3",
          "pattern": {
           "shape": ""
          }
         },
         "name": "k__Fungi;p__Ascomycota;__;__;__;__;__;__",
         "orientation": "v",
         "showlegend": true,
         "textposition": "auto",
         "type": "bar",
         "x": [
          "1633957F1628706",
          "1633958F1628707",
          "1633959F1628708",
          "1633963F1628712",
          "1633964F1628713"
         ],
         "xaxis": "x",
         "y": {
          "bdata": "AAAAAADAbUAAAAAAAIBpQAAAAAAAAEhAAAAAAAAgc0AAAAAAAJ6vQA==",
          "dtype": "f8"
         },
         "yaxis": "y"
        },
        {
         "hovertemplate": "fungus_short=_Incertae_sedis;s__Aphelidiomycota_sp;__<br>index=%{x}<br>count=%{y}<extra></extra>",
         "legendgroup": "_Incertae_sedis;s__Aphelidiomycota_sp;__",
         "marker": {
          "color": "#FF6692",
          "pattern": {
           "shape": ""
          }
         },
         "name": "_Incertae_sedis;s__Aphelidiomycota_sp;__",
         "orientation": "v",
         "showlegend": true,
         "textposition": "auto",
         "type": "bar",
         "x": [
          "1633963F1628712",
          "1633964F1628713"
         ],
         "xaxis": "x",
         "y": {
          "bdata": "AAAAAAAAM0AAAAAAAIBOQA==",
          "dtype": "f8"
         },
         "yaxis": "y"
        },
        {
         "hovertemplate": "fungus_short=s__Aphelidiomycota_sp;sh__SH0923710.10FU<br>index=%{x}<br>count=%{y}<extra></extra>",
         "legendgroup": "s__Aphelidiomycota_sp;sh__SH0923710.10FU",
         "marker": {
          "color": "#B6E880",
          "pattern": {
           "shape": ""
          }
         },
         "name": "s__Aphelidiomycota_sp;sh__SH0923710.10FU",
         "orientation": "v",
         "showlegend": true,
         "textposition": "auto",
         "type": "bar",
         "x": [
          "1633963F1628712",
          "1633964F1628713"
         ],
         "xaxis": "x",
         "y": {
          "bdata": "AAAAAAAANUAAAAAAAAA2QA==",
          "dtype": "f8"
         },
         "yaxis": "y"
        },
        {
         "hovertemplate": "fungus_short=s__Aphelidiomycota_sp;sh__SH0995263.10FU<br>index=%{x}<br>count=%{y}<extra></extra>",
         "legendgroup": "s__Aphelidiomycota_sp;sh__SH0995263.10FU",
         "marker": {
          "color": "#FF97FF",
          "pattern": {
           "shape": ""
          }
         },
         "name": "s__Aphelidiomycota_sp;sh__SH0995263.10FU",
         "orientation": "v",
         "showlegend": true,
         "textposition": "auto",
         "type": "bar",
         "x": [
          "1633964F1628713"
         ],
         "xaxis": "x",
         "y": {
          "bdata": "AAAAAAAAM0A=",
          "dtype": "f8"
         },
         "yaxis": "y"
        },
        {
         "hovertemplate": "fungus_short=hideomycetes;o__Pleosporales;__;__;__;__<br>index=%{x}<br>count=%{y}<extra></extra>",
         "legendgroup": "hideomycetes;o__Pleosporales;__;__;__;__",
         "marker": {
          "color": "#FECB52",
          "pattern": {
           "shape": ""
          }
         },
         "name": "hideomycetes;o__Pleosporales;__;__;__;__",
         "orientation": "v",
         "showlegend": true,
         "textposition": "auto",
         "type": "bar",
         "x": [
          "1633963F1628712",
          "1633964F1628713"
         ],
         "xaxis": "x",
         "y": {
          "bdata": "AAAAAAAAO0AAAAAAAAA9QA==",
          "dtype": "f8"
         },
         "yaxis": "y"
        },
        {
         "hovertemplate": "fungus_short=k__Fungi;__;__;__;__;__;__;__<br>index=%{x}<br>count=%{y}<extra></extra>",
         "legendgroup": "k__Fungi;__;__;__;__;__;__;__",
         "marker": {
          "color": "#636efa",
          "pattern": {
           "shape": ""
          }
         },
         "name": "k__Fungi;__;__;__;__;__;__;__",
         "orientation": "v",
         "showlegend": true,
         "textposition": "auto",
         "type": "bar",
         "x": [
          "1633963F1628712"
         ],
         "xaxis": "x",
         "y": {
          "bdata": "AAAAAADgYUA=",
          "dtype": "f8"
         },
         "yaxis": "y"
        }
       ],
       "layout": {
        "barmode": "relative",
        "legend": {
         "title": {
          "text": "fungus_short"
         },
         "tracegroupgap": 0
        },
        "template": {
         "data": {
          "bar": [
           {
            "error_x": {
             "color": "#2a3f5f"
            },
            "error_y": {
             "color": "#2a3f5f"
            },
            "marker": {
             "line": {
              "color": "#E5ECF6",
              "width": 0.5
             },
             "pattern": {
              "fillmode": "overlay",
              "size": 10,
              "solidity": 0.2
             }
            },
            "type": "bar"
           }
          ],
          "barpolar": [
           {
            "marker": {
             "line": {
              "color": "#E5ECF6",
              "width": 0.5
             },
             "pattern": {
              "fillmode": "overlay",
              "size": 10,
              "solidity": 0.2
             }
            },
            "type": "barpolar"
           }
          ],
          "carpet": [
           {
            "aaxis": {
             "endlinecolor": "#2a3f5f",
             "gridcolor": "white",
             "linecolor": "white",
             "minorgridcolor": "white",
             "startlinecolor": "#2a3f5f"
            },
            "baxis": {
             "endlinecolor": "#2a3f5f",
             "gridcolor": "white",
             "linecolor": "white",
             "minorgridcolor": "white",
             "startlinecolor": "#2a3f5f"
            },
            "type": "carpet"
           }
          ],
          "choropleth": [
           {
            "colorbar": {
             "outlinewidth": 0,
             "ticks": ""
            },
            "type": "choropleth"
           }
          ],
          "contour": [
           {
            "colorbar": {
             "outlinewidth": 0,
             "ticks": ""
            },
            "colorscale": [
             [
              0,
              "#0d0887"
             ],
             [
              0.1111111111111111,
              "#46039f"
             ],
             [
              0.2222222222222222,
              "#7201a8"
             ],
             [
              0.3333333333333333,
              "#9c179e"
             ],
             [
              0.4444444444444444,
              "#bd3786"
             ],
             [
              0.5555555555555556,
              "#d8576b"
             ],
             [
              0.6666666666666666,
              "#ed7953"
             ],
             [
              0.7777777777777778,
              "#fb9f3a"
             ],
             [
              0.8888888888888888,
              "#fdca26"
             ],
             [
              1,
              "#f0f921"
             ]
            ],
            "type": "contour"
           }
          ],
          "contourcarpet": [
           {
            "colorbar": {
             "outlinewidth": 0,
             "ticks": ""
            },
            "type": "contourcarpet"
           }
          ],
          "heatmap": [
           {
            "colorbar": {
             "outlinewidth": 0,
             "ticks": ""
            },
            "colorscale": [
             [
              0,
              "#0d0887"
             ],
             [
              0.1111111111111111,
              "#46039f"
             ],
             [
              0.2222222222222222,
              "#7201a8"
             ],
             [
              0.3333333333333333,
              "#9c179e"
             ],
             [
              0.4444444444444444,
              "#bd3786"
             ],
             [
              0.5555555555555556,
              "#d8576b"
             ],
             [
              0.6666666666666666,
              "#ed7953"
             ],
             [
              0.7777777777777778,
              "#fb9f3a"
             ],
             [
              0.8888888888888888,
              "#fdca26"
             ],
             [
              1,
              "#f0f921"
             ]
            ],
            "type": "heatmap"
           }
          ],
          "histogram": [
           {
            "marker": {
             "pattern": {
              "fillmode": "overlay",
              "size": 10,
              "solidity": 0.2
             }
            },
            "type": "histogram"
           }
          ],
          "histogram2d": [
           {
            "colorbar": {
             "outlinewidth": 0,
             "ticks": ""
            },
            "colorscale": [
             [
              0,
              "#0d0887"
             ],
             [
              0.1111111111111111,
              "#46039f"
             ],
             [
              0.2222222222222222,
              "#7201a8"
             ],
             [
              0.3333333333333333,
              "#9c179e"
             ],
             [
              0.4444444444444444,
              "#bd3786"
             ],
             [
              0.5555555555555556,
              "#d8576b"
             ],
             [
              0.6666666666666666,
              "#ed7953"
             ],
             [
              0.7777777777777778,
              "#fb9f3a"
             ],
             [
              0.8888888888888888,
              "#fdca26"
             ],
             [
              1,
              "#f0f921"
             ]
            ],
            "type": "histogram2d"
           }
          ],
          "histogram2dcontour": [
           {
            "colorbar": {
             "outlinewidth": 0,
             "ticks": ""
            },
            "colorscale": [
             [
              0,
              "#0d0887"
             ],
             [
              0.1111111111111111,
              "#46039f"
             ],
             [
              0.2222222222222222,
              "#7201a8"
             ],
             [
              0.3333333333333333,
              "#9c179e"
             ],
             [
              0.4444444444444444,
              "#bd3786"
             ],
             [
              0.5555555555555556,
              "#d8576b"
             ],
             [
              0.6666666666666666,
              "#ed7953"
             ],
             [
              0.7777777777777778,
              "#fb9f3a"
             ],
             [
              0.8888888888888888,
              "#fdca26"
             ],
             [
              1,
              "#f0f921"
             ]
            ],
            "type": "histogram2dcontour"
           }
          ],
          "mesh3d": [
           {
            "colorbar": {
             "outlinewidth": 0,
             "ticks": ""
            },
            "type": "mesh3d"
           }
          ],
          "parcoords": [
           {
            "line": {
             "colorbar": {
              "outlinewidth": 0,
              "ticks": ""
             }
            },
            "type": "parcoords"
           }
          ],
          "pie": [
           {
            "automargin": true,
            "type": "pie"
           }
          ],
          "scatter": [
           {
            "fillpattern": {
             "fillmode": "overlay",
             "size": 10,
             "solidity": 0.2
            },
            "type": "scatter"
           }
          ],
          "scatter3d": [
           {
            "line": {
             "colorbar": {
              "outlinewidth": 0,
              "ticks": ""
             }
            },
            "marker": {
             "colorbar": {
              "outlinewidth": 0,
              "ticks": ""
             }
            },
            "type": "scatter3d"
           }
          ],
          "scattercarpet": [
           {
            "marker": {
             "colorbar": {
              "outlinewidth": 0,
              "ticks": ""
             }
            },
            "type": "scattercarpet"
           }
          ],
          "scattergeo": [
           {
            "marker": {
             "colorbar": {
              "outlinewidth": 0,
              "ticks": ""
             }
            },
            "type": "scattergeo"
           }
          ],
          "scattergl": [
           {
            "marker": {
             "colorbar": {
              "outlinewidth": 0,
              "ticks": ""
             }
            },
            "type": "scattergl"
           }
          ],
          "scattermap": [
           {
            "marker": {
             "colorbar": {
              "outlinewidth": 0,
              "ticks": ""
             }
            },
            "type": "scattermap"
           }
          ],
          "scattermapbox": [
           {
            "marker": {
             "colorbar": {
              "outlinewidth": 0,
              "ticks": ""
             }
            },
            "type": "scattermapbox"
           }
          ],
          "scatterpolar": [
           {
            "marker": {
             "colorbar": {
              "outlinewidth": 0,
              "ticks": ""
             }
            },
            "type": "scatterpolar"
           }
          ],
          "scatterpolargl": [
           {
            "marker": {
             "colorbar": {
              "outlinewidth": 0,
              "ticks": ""
             }
            },
            "type": "scatterpolargl"
           }
          ],
          "scatterternary": [
           {
            "marker": {
             "colorbar": {
              "outlinewidth": 0,
              "ticks": ""
             }
            },
            "type": "scatterternary"
           }
          ],
          "surface": [
           {
            "colorbar": {
             "outlinewidth": 0,
             "ticks": ""
            },
            "colorscale": [
             [
              0,
              "#0d0887"
             ],
             [
              0.1111111111111111,
              "#46039f"
             ],
             [
              0.2222222222222222,
              "#7201a8"
             ],
             [
              0.3333333333333333,
              "#9c179e"
             ],
             [
              0.4444444444444444,
              "#bd3786"
             ],
             [
              0.5555555555555556,
              "#d8576b"
             ],
             [
              0.6666666666666666,
              "#ed7953"
             ],
             [
              0.7777777777777778,
              "#fb9f3a"
             ],
             [
              0.8888888888888888,
              "#fdca26"
             ],
             [
              1,
              "#f0f921"
             ]
            ],
            "type": "surface"
           }
          ],
          "table": [
           {
            "cells": {
             "fill": {
              "color": "#EBF0F8"
             },
             "line": {
              "color": "white"
             }
            },
            "header": {
             "fill": {
              "color": "#C8D4E3"
             },
             "line": {
              "color": "white"
             }
            },
            "type": "table"
           }
          ]
         },
         "layout": {
          "annotationdefaults": {
           "arrowcolor": "#2a3f5f",
           "arrowhead": 0,
           "arrowwidth": 1
          },
          "autotypenumbers": "strict",
          "coloraxis": {
           "colorbar": {
            "outlinewidth": 0,
            "ticks": ""
           }
          },
          "colorscale": {
           "diverging": [
            [
             0,
             "#8e0152"
            ],
            [
             0.1,
             "#c51b7d"
            ],
            [
             0.2,
             "#de77ae"
            ],
            [
             0.3,
             "#f1b6da"
            ],
            [
             0.4,
             "#fde0ef"
            ],
            [
             0.5,
             "#f7f7f7"
            ],
            [
             0.6,
             "#e6f5d0"
            ],
            [
             0.7,
             "#b8e186"
            ],
            [
             0.8,
             "#7fbc41"
            ],
            [
             0.9,
             "#4d9221"
            ],
            [
             1,
             "#276419"
            ]
           ],
           "sequential": [
            [
             0,
             "#0d0887"
            ],
            [
             0.1111111111111111,
             "#46039f"
            ],
            [
             0.2222222222222222,
             "#7201a8"
            ],
            [
             0.3333333333333333,
             "#9c179e"
            ],
            [
             0.4444444444444444,
             "#bd3786"
            ],
            [
             0.5555555555555556,
             "#d8576b"
            ],
            [
             0.6666666666666666,
             "#ed7953"
            ],
            [
             0.7777777777777778,
             "#fb9f3a"
            ],
            [
             0.8888888888888888,
             "#fdca26"
            ],
            [
             1,
             "#f0f921"
            ]
           ],
           "sequentialminus": [
            [
             0,
             "#0d0887"
            ],
            [
             0.1111111111111111,
             "#46039f"
            ],
            [
             0.2222222222222222,
             "#7201a8"
            ],
            [
             0.3333333333333333,
             "#9c179e"
            ],
            [
             0.4444444444444444,
             "#bd3786"
            ],
            [
             0.5555555555555556,
             "#d8576b"
            ],
            [
             0.6666666666666666,
             "#ed7953"
            ],
            [
             0.7777777777777778,
             "#fb9f3a"
            ],
            [
             0.8888888888888888,
             "#fdca26"
            ],
            [
             1,
             "#f0f921"
            ]
           ]
          },
          "colorway": [
           "#636efa",
           "#EF553B",
           "#00cc96",
           "#ab63fa",
           "#FFA15A",
           "#19d3f3",
           "#FF6692",
           "#B6E880",
           "#FF97FF",
           "#FECB52"
          ],
          "font": {
           "color": "#2a3f5f"
          },
          "geo": {
           "bgcolor": "white",
           "lakecolor": "white",
           "landcolor": "#E5ECF6",
           "showlakes": true,
           "showland": true,
           "subunitcolor": "white"
          },
          "hoverlabel": {
           "align": "left"
          },
          "hovermode": "closest",
          "mapbox": {
           "style": "light"
          },
          "paper_bgcolor": "white",
          "plot_bgcolor": "#E5ECF6",
          "polar": {
           "angularaxis": {
            "gridcolor": "white",
            "linecolor": "white",
            "ticks": ""
           },
           "bgcolor": "#E5ECF6",
           "radialaxis": {
            "gridcolor": "white",
            "linecolor": "white",
            "ticks": ""
           }
          },
          "scene": {
           "xaxis": {
            "backgroundcolor": "#E5ECF6",
            "gridcolor": "white",
            "gridwidth": 2,
            "linecolor": "white",
            "showbackground": true,
            "ticks": "",
            "zerolinecolor": "white"
           },
           "yaxis": {
            "backgroundcolor": "#E5ECF6",
            "gridcolor": "white",
            "gridwidth": 2,
            "linecolor": "white",
            "showbackground": true,
            "ticks": "",
            "zerolinecolor": "white"
           },
           "zaxis": {
            "backgroundcolor": "#E5ECF6",
            "gridcolor": "white",
            "gridwidth": 2,
            "linecolor": "white",
            "showbackground": true,
            "ticks": "",
            "zerolinecolor": "white"
           }
          },
          "shapedefaults": {
           "line": {
            "color": "#2a3f5f"
           }
          },
          "ternary": {
           "aaxis": {
            "gridcolor": "white",
            "linecolor": "white",
            "ticks": ""
           },
           "baxis": {
            "gridcolor": "white",
            "linecolor": "white",
            "ticks": ""
           },
           "bgcolor": "#E5ECF6",
           "caxis": {
            "gridcolor": "white",
            "linecolor": "white",
            "ticks": ""
           }
          },
          "title": {
           "x": 0.05
          },
          "xaxis": {
           "automargin": true,
           "gridcolor": "white",
           "linecolor": "white",
           "ticks": "",
           "title": {
            "standoff": 15
           },
           "zerolinecolor": "white",
           "zerolinewidth": 2
          },
          "yaxis": {
           "automargin": true,
           "gridcolor": "white",
           "linecolor": "white",
           "ticks": "",
           "title": {
            "standoff": 15
           },
           "zerolinecolor": "white",
           "zerolinewidth": 2
          }
         }
        },
        "title": {
         "text": "Frequenza funghi per campione"
        },
        "xaxis": {
         "anchor": "y",
         "domain": [
          0,
          1
         ],
         "title": {
          "text": "index"
         }
        },
        "yaxis": {
         "anchor": "x",
         "domain": [
          0,
          1
         ],
         "title": {
          "text": "count"
         }
        }
       }
      }
     },
     "metadata": {},
     "output_type": "display_data"
    }
   ],
   "source": [
    "import plotly.express as px\n",
    "\n",
    "fig = px.bar(long_df, x=\"index\", y=\"count\", color=\"fungus_short\", title=\"Frequenza funghi per campione\")\n",
    "fig.show()"
   ]
  },
  {
   "cell_type": "code",
   "execution_count": null,
   "id": "55c20588",
   "metadata": {},
   "outputs": [],
   "source": []
  },
  {
   "cell_type": "code",
   "execution_count": null,
   "id": "b5258c99",
   "metadata": {},
   "outputs": [],
   "source": []
  }
 ],
 "metadata": {
  "kernelspec": {
   "display_name": "Python (viz)",
   "language": "python",
   "name": "viz"
  },
  "language_info": {
   "codemirror_mode": {
    "name": "ipython",
    "version": 3
   },
   "file_extension": ".py",
   "mimetype": "text/x-python",
   "name": "python",
   "nbconvert_exporter": "python",
   "pygments_lexer": "ipython3",
   "version": "3.12.2"
  }
 },
 "nbformat": 4,
 "nbformat_minor": 5
}
