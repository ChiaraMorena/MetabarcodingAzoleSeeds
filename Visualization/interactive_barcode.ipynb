{
 "cells": [
  {
   "cell_type": "code",
   "execution_count": 1,
   "id": "72975285",
   "metadata": {},
   "outputs": [
    {
     "name": "stdout",
     "output_type": "stream",
     "text": [
      "Collecting pandas\n",
      "  Downloading pandas-2.2.3-cp310-cp310-manylinux_2_17_x86_64.manylinux2014_x86_64.whl.metadata (89 kB)\n",
      "Collecting numpy>=1.22.4 (from pandas)\n",
      "  Downloading numpy-2.2.6-cp310-cp310-manylinux_2_17_x86_64.manylinux2014_x86_64.whl.metadata (62 kB)\n",
      "Requirement already satisfied: python-dateutil>=2.8.2 in /home/chiara-morena/repo/Azole_reanalisi/.venv/lib/python3.10/site-packages (from pandas) (2.9.0.post0)\n",
      "Collecting pytz>=2020.1 (from pandas)\n",
      "  Downloading pytz-2025.2-py2.py3-none-any.whl.metadata (22 kB)\n",
      "Collecting tzdata>=2022.7 (from pandas)\n",
      "  Downloading tzdata-2025.2-py2.py3-none-any.whl.metadata (1.4 kB)\n",
      "Requirement already satisfied: six>=1.5 in /home/chiara-morena/repo/Azole_reanalisi/.venv/lib/python3.10/site-packages (from python-dateutil>=2.8.2->pandas) (1.17.0)\n",
      "Downloading pandas-2.2.3-cp310-cp310-manylinux_2_17_x86_64.manylinux2014_x86_64.whl (13.1 MB)\n",
      "\u001b[2K   \u001b[90m━━━━━━━━━━━━━━━━━━━━━━━━━━━━━━━━━━━━━━━━\u001b[0m \u001b[32m13.1/13.1 MB\u001b[0m \u001b[31m5.8 MB/s\u001b[0m eta \u001b[36m0:00:00\u001b[0ma \u001b[36m0:00:01\u001b[0m\n",
      "\u001b[?25hDownloading numpy-2.2.6-cp310-cp310-manylinux_2_17_x86_64.manylinux2014_x86_64.whl (16.8 MB)\n",
      "\u001b[2K   \u001b[90m━━━━━━━━━━━━━━━━━━━━━━━━━━━━━━━━━━━━━━━━\u001b[0m \u001b[32m16.8/16.8 MB\u001b[0m \u001b[31m8.5 MB/s\u001b[0m eta \u001b[36m0:00:00\u001b[0ma \u001b[36m0:00:01\u001b[0m\n",
      "\u001b[?25hDownloading pytz-2025.2-py2.py3-none-any.whl (509 kB)\n",
      "Downloading tzdata-2025.2-py2.py3-none-any.whl (347 kB)\n",
      "Installing collected packages: pytz, tzdata, numpy, pandas\n",
      "\u001b[2K   \u001b[90m━━━━━━━━━━━━━━━━━━━━━━━━━━━━━━━━━━━━━━━━\u001b[0m \u001b[32m4/4\u001b[0m [pandas]2m3/4\u001b[0m [pandas]\n",
      "\u001b[1A\u001b[2KSuccessfully installed numpy-2.2.6 pandas-2.2.3 pytz-2025.2 tzdata-2025.2\n"
     ]
    }
   ],
   "source": [
    "!pip install pandas"
   ]
  },
  {
   "cell_type": "code",
   "execution_count": 4,
   "id": "8776c50c",
   "metadata": {},
   "outputs": [
    {
     "name": "stdout",
     "output_type": "stream",
     "text": [
      "Requirement already satisfied: plotly in /home/chiara-morena/repo/Azole_reanalisi/.venv/lib/python3.10/site-packages (6.1.2)\n",
      "Requirement already satisfied: narwhals>=1.15.1 in /home/chiara-morena/repo/Azole_reanalisi/.venv/lib/python3.10/site-packages (from plotly) (1.41.0)\n",
      "Requirement already satisfied: packaging in /home/chiara-morena/repo/Azole_reanalisi/.venv/lib/python3.10/site-packages (from plotly) (25.0)\n"
     ]
    }
   ],
   "source": [
    "!pip install plotly"
   ]
  },
  {
   "cell_type": "code",
   "execution_count": 25,
   "id": "e1cea62f",
   "metadata": {},
   "outputs": [
    {
     "name": "stdout",
     "output_type": "stream",
     "text": [
      "Requirement already satisfied: nbformat in /home/chiara-morena/repo/Azole_reanalisi/.venv/lib/python3.10/site-packages (5.10.4)\n",
      "Requirement already satisfied: fastjsonschema>=2.15 in /home/chiara-morena/repo/Azole_reanalisi/.venv/lib/python3.10/site-packages (from nbformat) (2.21.1)\n",
      "Requirement already satisfied: jsonschema>=2.6 in /home/chiara-morena/repo/Azole_reanalisi/.venv/lib/python3.10/site-packages (from nbformat) (4.24.0)\n",
      "Requirement already satisfied: jupyter-core!=5.0.*,>=4.12 in /home/chiara-morena/repo/Azole_reanalisi/.venv/lib/python3.10/site-packages (from nbformat) (5.8.1)\n",
      "Requirement already satisfied: traitlets>=5.1 in /home/chiara-morena/repo/Azole_reanalisi/.venv/lib/python3.10/site-packages (from nbformat) (5.14.3)\n",
      "Requirement already satisfied: attrs>=22.2.0 in /home/chiara-morena/repo/Azole_reanalisi/.venv/lib/python3.10/site-packages (from jsonschema>=2.6->nbformat) (25.3.0)\n",
      "Requirement already satisfied: jsonschema-specifications>=2023.03.6 in /home/chiara-morena/repo/Azole_reanalisi/.venv/lib/python3.10/site-packages (from jsonschema>=2.6->nbformat) (2025.4.1)\n",
      "Requirement already satisfied: referencing>=0.28.4 in /home/chiara-morena/repo/Azole_reanalisi/.venv/lib/python3.10/site-packages (from jsonschema>=2.6->nbformat) (0.36.2)\n",
      "Requirement already satisfied: rpds-py>=0.7.1 in /home/chiara-morena/repo/Azole_reanalisi/.venv/lib/python3.10/site-packages (from jsonschema>=2.6->nbformat) (0.25.1)\n",
      "Requirement already satisfied: platformdirs>=2.5 in /home/chiara-morena/repo/Azole_reanalisi/.venv/lib/python3.10/site-packages (from jupyter-core!=5.0.*,>=4.12->nbformat) (4.3.8)\n",
      "Requirement already satisfied: typing-extensions>=4.4.0 in /home/chiara-morena/repo/Azole_reanalisi/.venv/lib/python3.10/site-packages (from referencing>=0.28.4->jsonschema>=2.6->nbformat) (4.13.2)\n"
     ]
    }
   ],
   "source": [
    "!pip install nbformat"
   ]
  },
  {
   "cell_type": "code",
   "execution_count": 18,
   "id": "bc24b9bd",
   "metadata": {},
   "outputs": [
    {
     "data": {
      "text/html": [
       "<div>\n",
       "<style scoped>\n",
       "    .dataframe tbody tr th:only-of-type {\n",
       "        vertical-align: middle;\n",
       "    }\n",
       "\n",
       "    .dataframe tbody tr th {\n",
       "        vertical-align: top;\n",
       "    }\n",
       "\n",
       "    .dataframe thead th {\n",
       "        text-align: right;\n",
       "    }\n",
       "</style>\n",
       "<table border=\"1\" class=\"dataframe\">\n",
       "  <thead>\n",
       "    <tr style=\"text-align: right;\">\n",
       "      <th></th>\n",
       "      <th>index</th>\n",
       "      <th>Alternaria_eichhorniae</th>\n",
       "      <th>unknown</th>\n",
       "      <th>Aspergillus_flavus</th>\n",
       "      <th>Cladosporium_herbarum</th>\n",
       "      <th>Simplicillium_sp</th>\n",
       "      <th>Fusarium_oxysporum</th>\n",
       "      <th>Didymellaceae_sp</th>\n",
       "      <th>Symmetrospora_coprosmae</th>\n",
       "      <th>Alternaria_sp</th>\n",
       "      <th>Rhizopus_arrhizus</th>\n",
       "      <th>Rhizopus_microsporus</th>\n",
       "      <th>Metschnikowia_sp</th>\n",
       "    </tr>\n",
       "  </thead>\n",
       "  <tbody>\n",
       "    <tr>\n",
       "      <th>0</th>\n",
       "      <td>Uncoated</td>\n",
       "      <td>2,925766884</td>\n",
       "      <td>0,051365289</td>\n",
       "      <td>0</td>\n",
       "      <td>0</td>\n",
       "      <td>2,467588502</td>\n",
       "      <td>0</td>\n",
       "      <td>0,024655339</td>\n",
       "      <td>0</td>\n",
       "      <td>0,113003637</td>\n",
       "      <td>93,96355119</td>\n",
       "      <td>0</td>\n",
       "      <td>0,454069158</td>\n",
       "    </tr>\n",
       "    <tr>\n",
       "      <th>1</th>\n",
       "      <td>0x</td>\n",
       "      <td>12,40330622</td>\n",
       "      <td>3,466896358</td>\n",
       "      <td>2,186480264</td>\n",
       "      <td>1,273790396</td>\n",
       "      <td>0,05963128</td>\n",
       "      <td>6,615759222</td>\n",
       "      <td>3,741862815</td>\n",
       "      <td>0</td>\n",
       "      <td>2,555862914</td>\n",
       "      <td>67,35849994</td>\n",
       "      <td>0</td>\n",
       "      <td>0,337910586</td>\n",
       "    </tr>\n",
       "    <tr>\n",
       "      <th>2</th>\n",
       "      <td>1x</td>\n",
       "      <td>25,86959137</td>\n",
       "      <td>5,309947404</td>\n",
       "      <td>1,778001334</td>\n",
       "      <td>0,370690315</td>\n",
       "      <td>0,837607025</td>\n",
       "      <td>0,199013679</td>\n",
       "      <td>0,306174891</td>\n",
       "      <td>0,97</td>\n",
       "      <td>2,377229336</td>\n",
       "      <td>55,59370592</td>\n",
       "      <td>6,162863173</td>\n",
       "      <td>0,229631169</td>\n",
       "    </tr>\n",
       "    <tr>\n",
       "      <th>3</th>\n",
       "      <td>2x</td>\n",
       "      <td>1,213552429</td>\n",
       "      <td>0</td>\n",
       "      <td>0</td>\n",
       "      <td>5,85347721</td>\n",
       "      <td>1,23869811</td>\n",
       "      <td>0</td>\n",
       "      <td>0,353132824</td>\n",
       "      <td>0</td>\n",
       "      <td>2,421638405</td>\n",
       "      <td>88,25915357</td>\n",
       "      <td>0</td>\n",
       "      <td>0,660347448</td>\n",
       "    </tr>\n",
       "    <tr>\n",
       "      <th>4</th>\n",
       "      <td>4x</td>\n",
       "      <td>24,13239471</td>\n",
       "      <td>0,200691614</td>\n",
       "      <td>0</td>\n",
       "      <td>0</td>\n",
       "      <td>0,101889589</td>\n",
       "      <td>0</td>\n",
       "      <td>0,348894652</td>\n",
       "      <td>0</td>\n",
       "      <td>0,006175127</td>\n",
       "      <td>74,84562184</td>\n",
       "      <td>0</td>\n",
       "      <td>0,364332469</td>\n",
       "    </tr>\n",
       "  </tbody>\n",
       "</table>\n",
       "</div>"
      ],
      "text/plain": [
       "      index Alternaria_eichhorniae      unknown Aspergillus_flavus  \\\n",
       "0  Uncoated            2,925766884  0,051365289                  0   \n",
       "1        0x            12,40330622  3,466896358        2,186480264   \n",
       "2        1x            25,86959137  5,309947404        1,778001334   \n",
       "3        2x            1,213552429            0                  0   \n",
       "4        4x            24,13239471  0,200691614                  0   \n",
       "\n",
       "  Cladosporium_herbarum Simplicillium_sp Fusarium_oxysporum Didymellaceae_sp  \\\n",
       "0                     0      2,467588502                  0      0,024655339   \n",
       "1           1,273790396       0,05963128        6,615759222      3,741862815   \n",
       "2           0,370690315      0,837607025        0,199013679      0,306174891   \n",
       "3            5,85347721       1,23869811                  0      0,353132824   \n",
       "4                     0      0,101889589                  0      0,348894652   \n",
       "\n",
       "  Symmetrospora_coprosmae Alternaria_sp Rhizopus_arrhizus  \\\n",
       "0                       0   0,113003637       93,96355119   \n",
       "1                       0   2,555862914       67,35849994   \n",
       "2                    0,97   2,377229336       55,59370592   \n",
       "3                       0   2,421638405       88,25915357   \n",
       "4                       0   0,006175127       74,84562184   \n",
       "\n",
       "  Rhizopus_microsporus Metschnikowia_sp  \n",
       "0                    0      0,454069158  \n",
       "1                    0      0,337910586  \n",
       "2          6,162863173      0,229631169  \n",
       "3                    0      0,660347448  \n",
       "4                    0      0,364332469  "
      ]
     },
     "execution_count": 18,
     "metadata": {},
     "output_type": "execute_result"
    }
   ],
   "source": [
    "#import data\n",
    "import pandas as pd\n",
    "df = pd.read_csv('/home/chiara-morena/repo/Azole_reanalisi/Visualization/species.csv',sep=';')\n",
    "df.head()"
   ]
  },
  {
   "cell_type": "code",
   "execution_count": 19,
   "id": "f8899844",
   "metadata": {},
   "outputs": [
    {
     "data": {
      "text/html": [
       "<div>\n",
       "<style scoped>\n",
       "    .dataframe tbody tr th:only-of-type {\n",
       "        vertical-align: middle;\n",
       "    }\n",
       "\n",
       "    .dataframe tbody tr th {\n",
       "        vertical-align: top;\n",
       "    }\n",
       "\n",
       "    .dataframe thead th {\n",
       "        text-align: right;\n",
       "    }\n",
       "</style>\n",
       "<table border=\"1\" class=\"dataframe\">\n",
       "  <thead>\n",
       "    <tr style=\"text-align: right;\">\n",
       "      <th></th>\n",
       "      <th>index</th>\n",
       "      <th>fungus</th>\n",
       "      <th>count</th>\n",
       "    </tr>\n",
       "  </thead>\n",
       "  <tbody>\n",
       "    <tr>\n",
       "      <th>0</th>\n",
       "      <td>Uncoated</td>\n",
       "      <td>Alternaria_eichhorniae</td>\n",
       "      <td>2,925766884</td>\n",
       "    </tr>\n",
       "    <tr>\n",
       "      <th>1</th>\n",
       "      <td>0x</td>\n",
       "      <td>Alternaria_eichhorniae</td>\n",
       "      <td>12,40330622</td>\n",
       "    </tr>\n",
       "    <tr>\n",
       "      <th>2</th>\n",
       "      <td>1x</td>\n",
       "      <td>Alternaria_eichhorniae</td>\n",
       "      <td>25,86959137</td>\n",
       "    </tr>\n",
       "    <tr>\n",
       "      <th>3</th>\n",
       "      <td>2x</td>\n",
       "      <td>Alternaria_eichhorniae</td>\n",
       "      <td>1,213552429</td>\n",
       "    </tr>\n",
       "    <tr>\n",
       "      <th>4</th>\n",
       "      <td>4x</td>\n",
       "      <td>Alternaria_eichhorniae</td>\n",
       "      <td>24,13239471</td>\n",
       "    </tr>\n",
       "  </tbody>\n",
       "</table>\n",
       "</div>"
      ],
      "text/plain": [
       "      index                  fungus        count\n",
       "0  Uncoated  Alternaria_eichhorniae  2,925766884\n",
       "1        0x  Alternaria_eichhorniae  12,40330622\n",
       "2        1x  Alternaria_eichhorniae  25,86959137\n",
       "3        2x  Alternaria_eichhorniae  1,213552429\n",
       "4        4x  Alternaria_eichhorniae  24,13239471"
      ]
     },
     "execution_count": 19,
     "metadata": {},
     "output_type": "execute_result"
    }
   ],
   "source": [
    "#tidy format\n",
    "long_df = df.melt(id_vars=['index'], var_name='fungus', value_name='count')\n",
    "long_df.head()\n"
   ]
  },
  {
   "cell_type": "code",
   "execution_count": 26,
   "id": "165612ca",
   "metadata": {},
   "outputs": [
    {
     "ename": "ValueError",
     "evalue": "Mime type rendering requires nbformat>=4.2.0 but it is not installed",
     "output_type": "error",
     "traceback": [
      "\u001b[0;31m---------------------------------------------------------------------------\u001b[0m",
      "\u001b[0;31mValueError\u001b[0m                                Traceback (most recent call last)",
      "Cell \u001b[0;32mIn[26], line 4\u001b[0m\n\u001b[1;32m      1\u001b[0m \u001b[38;5;28;01mimport\u001b[39;00m\u001b[38;5;250m \u001b[39m\u001b[38;5;21;01mplotly\u001b[39;00m\u001b[38;5;21;01m.\u001b[39;00m\u001b[38;5;21;01mexpress\u001b[39;00m\u001b[38;5;250m \u001b[39m\u001b[38;5;28;01mas\u001b[39;00m\u001b[38;5;250m \u001b[39m\u001b[38;5;21;01mpx\u001b[39;00m\n\u001b[1;32m      3\u001b[0m fig \u001b[38;5;241m=\u001b[39m px\u001b[38;5;241m.\u001b[39mbar(long_df, x\u001b[38;5;241m=\u001b[39m\u001b[38;5;124m\"\u001b[39m\u001b[38;5;124mindex\u001b[39m\u001b[38;5;124m\"\u001b[39m, y\u001b[38;5;241m=\u001b[39m\u001b[38;5;124m\"\u001b[39m\u001b[38;5;124mcount\u001b[39m\u001b[38;5;124m\"\u001b[39m, color\u001b[38;5;241m=\u001b[39m\u001b[38;5;124m\"\u001b[39m\u001b[38;5;124mfungus\u001b[39m\u001b[38;5;124m\"\u001b[39m, title\u001b[38;5;241m=\u001b[39m\u001b[38;5;124m\"\u001b[39m\u001b[38;5;124mFrequenza funghi per campione\u001b[39m\u001b[38;5;124m\"\u001b[39m)\n\u001b[0;32m----> 4\u001b[0m \u001b[43mfig\u001b[49m\u001b[38;5;241;43m.\u001b[39;49m\u001b[43mshow\u001b[49m\u001b[43m(\u001b[49m\u001b[43m)\u001b[49m\n",
      "File \u001b[0;32m/home/chiara-morena/repo/Azole_reanalisi/.venv/lib/python3.10/site-packages/plotly/basedatatypes.py:3436\u001b[0m, in \u001b[0;36mBaseFigure.show\u001b[0;34m(self, *args, **kwargs)\u001b[0m\n\u001b[1;32m   3403\u001b[0m \u001b[38;5;250m\u001b[39m\u001b[38;5;124;03m\"\"\"\u001b[39;00m\n\u001b[1;32m   3404\u001b[0m \u001b[38;5;124;03mShow a figure using either the default renderer(s) or the renderer(s)\u001b[39;00m\n\u001b[1;32m   3405\u001b[0m \u001b[38;5;124;03mspecified by the renderer argument\u001b[39;00m\n\u001b[0;32m   (...)\u001b[0m\n\u001b[1;32m   3432\u001b[0m \u001b[38;5;124;03mNone\u001b[39;00m\n\u001b[1;32m   3433\u001b[0m \u001b[38;5;124;03m\"\"\"\u001b[39;00m\n\u001b[1;32m   3434\u001b[0m \u001b[38;5;28;01mimport\u001b[39;00m\u001b[38;5;250m \u001b[39m\u001b[38;5;21;01mplotly\u001b[39;00m\u001b[38;5;21;01m.\u001b[39;00m\u001b[38;5;21;01mio\u001b[39;00m\u001b[38;5;250m \u001b[39m\u001b[38;5;28;01mas\u001b[39;00m\u001b[38;5;250m \u001b[39m\u001b[38;5;21;01mpio\u001b[39;00m\n\u001b[0;32m-> 3436\u001b[0m \u001b[38;5;28;01mreturn\u001b[39;00m \u001b[43mpio\u001b[49m\u001b[38;5;241;43m.\u001b[39;49m\u001b[43mshow\u001b[49m\u001b[43m(\u001b[49m\u001b[38;5;28;43mself\u001b[39;49m\u001b[43m,\u001b[49m\u001b[43m \u001b[49m\u001b[38;5;241;43m*\u001b[39;49m\u001b[43margs\u001b[49m\u001b[43m,\u001b[49m\u001b[43m \u001b[49m\u001b[38;5;241;43m*\u001b[39;49m\u001b[38;5;241;43m*\u001b[39;49m\u001b[43mkwargs\u001b[49m\u001b[43m)\u001b[49m\n",
      "File \u001b[0;32m/home/chiara-morena/repo/Azole_reanalisi/.venv/lib/python3.10/site-packages/plotly/io/_renderers.py:425\u001b[0m, in \u001b[0;36mshow\u001b[0;34m(fig, renderer, validate, **kwargs)\u001b[0m\n\u001b[1;32m    420\u001b[0m     \u001b[38;5;28;01mraise\u001b[39;00m \u001b[38;5;167;01mValueError\u001b[39;00m(\n\u001b[1;32m    421\u001b[0m         \u001b[38;5;124m\"\u001b[39m\u001b[38;5;124mMime type rendering requires ipython but it is not installed\u001b[39m\u001b[38;5;124m\"\u001b[39m\n\u001b[1;32m    422\u001b[0m     )\n\u001b[1;32m    424\u001b[0m \u001b[38;5;28;01mif\u001b[39;00m \u001b[38;5;129;01mnot\u001b[39;00m nbformat \u001b[38;5;129;01mor\u001b[39;00m Version(nbformat\u001b[38;5;241m.\u001b[39m__version__) \u001b[38;5;241m<\u001b[39m Version(\u001b[38;5;124m\"\u001b[39m\u001b[38;5;124m4.2.0\u001b[39m\u001b[38;5;124m\"\u001b[39m):\n\u001b[0;32m--> 425\u001b[0m     \u001b[38;5;28;01mraise\u001b[39;00m \u001b[38;5;167;01mValueError\u001b[39;00m(\n\u001b[1;32m    426\u001b[0m         \u001b[38;5;124m\"\u001b[39m\u001b[38;5;124mMime type rendering requires nbformat>=4.2.0 but it is not installed\u001b[39m\u001b[38;5;124m\"\u001b[39m\n\u001b[1;32m    427\u001b[0m     )\n\u001b[1;32m    429\u001b[0m display_jupyter_version_warnings()\n\u001b[1;32m    431\u001b[0m ipython_display\u001b[38;5;241m.\u001b[39mdisplay(bundle, raw\u001b[38;5;241m=\u001b[39m\u001b[38;5;28;01mTrue\u001b[39;00m)\n",
      "\u001b[0;31mValueError\u001b[0m: Mime type rendering requires nbformat>=4.2.0 but it is not installed"
     ]
    }
   ],
   "source": [
    "import plotly.express as px\n",
    "\n",
    "fig = px.bar(long_df, x=\"index\", y=\"count\", color=\"fungus\", title=\"Frequenza funghi per campione\")\n",
    "fig.show()"
   ]
  },
  {
   "cell_type": "code",
   "execution_count": null,
   "id": "55c20588",
   "metadata": {},
   "outputs": [],
   "source": []
  },
  {
   "cell_type": "code",
   "execution_count": null,
   "id": "b5258c99",
   "metadata": {},
   "outputs": [],
   "source": []
  }
 ],
 "metadata": {
  "kernelspec": {
   "display_name": ".venv",
   "language": "python",
   "name": "python3"
  },
  "language_info": {
   "codemirror_mode": {
    "name": "ipython",
    "version": 3
   },
   "file_extension": ".py",
   "mimetype": "text/x-python",
   "name": "python",
   "nbconvert_exporter": "python",
   "pygments_lexer": "ipython3",
   "version": "3.10.12"
  }
 },
 "nbformat": 4,
 "nbformat_minor": 5
}
